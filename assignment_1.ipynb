{
 "cells": [
  {
   "cell_type": "markdown",
   "id": "776919bd-3277-4d51-8362-c825b8e21fba",
   "metadata": {},
   "source": [
    "Q1. Create one variable containing following type of data:\n",
    "(i) string\n",
    "(ii) list\n",
    "(iii) float\n",
    "(iv) tuple"
   ]
  },
  {
   "cell_type": "code",
   "execution_count": null,
   "id": "91e7c4ac-3f35-4fc4-b715-65f278090d70",
   "metadata": {},
   "outputs": [],
   "source": [
    "a = \"VSMalik\"        # answer1"
   ]
  },
  {
   "cell_type": "code",
   "execution_count": null,
   "id": "45fab56b-82ae-4ec0-95e6-4ab802c6a3e0",
   "metadata": {},
   "outputs": [
    {
     "data": {
      "text/plain": [
       "'VSMalik'"
      ]
     },
     "execution_count": 2,
     "metadata": {},
     "output_type": "execute_result"
    }
   ],
   "source": [
    "a"
   ]
  },
  {
   "cell_type": "code",
   "execution_count": 8,
   "id": "daf346e7-3883-4d5a-bd6b-e3c919779c1d",
   "metadata": {},
   "outputs": [],
   "source": [
    "b = [1,2,3,\"abc\",34,45.56,3 + 4j]"
   ]
  },
  {
   "cell_type": "code",
   "execution_count": 9,
   "id": "76c423e1-5240-49f1-9a92-33d8c7e0a788",
   "metadata": {},
   "outputs": [
    {
     "data": {
      "text/plain": [
       "[1, 2, 3, 'abc', 34, 45.56, (3+4j)]"
      ]
     },
     "execution_count": 9,
     "metadata": {},
     "output_type": "execute_result"
    }
   ],
   "source": [
    "b"
   ]
  },
  {
   "cell_type": "code",
   "execution_count": 10,
   "id": "7eeacff9-1842-4ac8-bb4f-e398143752ac",
   "metadata": {},
   "outputs": [],
   "source": [
    "c = 34.45678"
   ]
  },
  {
   "cell_type": "code",
   "execution_count": 11,
   "id": "39e537f3-9b96-4546-b8dc-db829e426457",
   "metadata": {},
   "outputs": [
    {
     "data": {
      "text/plain": [
       "34.45678"
      ]
     },
     "execution_count": 11,
     "metadata": {},
     "output_type": "execute_result"
    }
   ],
   "source": [
    "c"
   ]
  },
  {
   "cell_type": "code",
   "execution_count": 13,
   "id": "2b63fc1e-aafa-4c5d-92e2-2edcf348d24e",
   "metadata": {},
   "outputs": [],
   "source": [
    "d = (1,2,3,\"abc\",34,45.56,3 + 4j)"
   ]
  },
  {
   "cell_type": "code",
   "execution_count": 14,
   "id": "52bfd256-5ea5-4b9c-8100-803f45bcfc32",
   "metadata": {},
   "outputs": [
    {
     "data": {
      "text/plain": [
       "(1, 2, 3, 'abc', 34, 45.56, (3+4j))"
      ]
     },
     "execution_count": 14,
     "metadata": {},
     "output_type": "execute_result"
    }
   ],
   "source": [
    "d"
   ]
  },
  {
   "cell_type": "markdown",
   "id": "15b734e7-6d0a-4837-ba1d-23e7bb82908a",
   "metadata": {},
   "source": [
    "Q2. Given are some following variables containing data:\n",
    "(i) var1 = ‘ ‘\n",
    "(ii) var2 = ‘[ DS , ML , Python]’\n",
    "(iii) var3 = [ ‘DS’ , ’ML’ , ‘Python’ ]\n",
    "(iv) var4 = 1.\n",
    "What will be the data type of the above given variable."
   ]
  },
  {
   "cell_type": "code",
   "execution_count": 26,
   "id": "3d65734c-7bcc-4518-81c9-b7c310818740",
   "metadata": {},
   "outputs": [],
   "source": [
    "var1 = \"\"                                       #answer 2\n",
    "var2 = \"[DS, ML, Python]\"\n",
    "var3 = ['DS', 'ML', 'Python']\n",
    "var4 = 1"
   ]
  },
  {
   "cell_type": "code",
   "execution_count": 22,
   "id": "a91d6061-64f6-4adc-9a46-f350247454fa",
   "metadata": {},
   "outputs": [
    {
     "data": {
      "text/plain": [
       "str"
      ]
     },
     "execution_count": 22,
     "metadata": {},
     "output_type": "execute_result"
    }
   ],
   "source": [
    "type(var1)"
   ]
  },
  {
   "cell_type": "code",
   "execution_count": 23,
   "id": "4022fa73-7579-4bce-8f5d-28081ebe6359",
   "metadata": {},
   "outputs": [
    {
     "data": {
      "text/plain": [
       "str"
      ]
     },
     "execution_count": 23,
     "metadata": {},
     "output_type": "execute_result"
    }
   ],
   "source": [
    "type(var2)"
   ]
  },
  {
   "cell_type": "code",
   "execution_count": 24,
   "id": "db290483-7b5c-41e1-a059-be329d40b656",
   "metadata": {},
   "outputs": [
    {
     "data": {
      "text/plain": [
       "list"
      ]
     },
     "execution_count": 24,
     "metadata": {},
     "output_type": "execute_result"
    }
   ],
   "source": [
    "type(var3)"
   ]
  },
  {
   "cell_type": "code",
   "execution_count": 25,
   "id": "29b579b3-a14a-4abc-86d2-9ee09f4c143c",
   "metadata": {},
   "outputs": [
    {
     "data": {
      "text/plain": [
       "int"
      ]
     },
     "execution_count": 25,
     "metadata": {},
     "output_type": "execute_result"
    }
   ],
   "source": [
    "type(var4)"
   ]
  },
  {
   "cell_type": "markdown",
   "id": "cadb98e9-a42d-4b6d-82e4-5b3992edbe77",
   "metadata": {},
   "source": [
    "Q3. Explain the use of the following operators using an example:\n",
    "(i) /\n",
    "(ii) %\n",
    "(iii) //\n",
    "(iv) **"
   ]
  },
  {
   "cell_type": "code",
   "execution_count": 31,
   "id": "05ea6700-3b4b-4e56-bf06-3b118c47aa3e",
   "metadata": {},
   "outputs": [
    {
     "name": "stdout",
     "output_type": "stream",
     "text": [
      "1.5\n"
     ]
    }
   ],
   "source": [
    "a = 3                 #answer3\n",
    "b = 2\n",
    "c = a/b\n",
    "print(c)"
   ]
  },
  {
   "cell_type": "code",
   "execution_count": 28,
   "id": "2b3529b2-ed1d-4b1c-ad5c-8bfa1d7a349e",
   "metadata": {},
   "outputs": [
    {
     "name": "stdout",
     "output_type": "stream",
     "text": [
      "1\n"
     ]
    }
   ],
   "source": [
    "d = 5\n",
    "e = 2\n",
    "f = d%e\n",
    "print(f)"
   ]
  },
  {
   "cell_type": "code",
   "execution_count": 29,
   "id": "d25166c2-4218-4d10-96ee-8cc9b81e74d3",
   "metadata": {},
   "outputs": [
    {
     "name": "stdout",
     "output_type": "stream",
     "text": [
      "1\n"
     ]
    }
   ],
   "source": [
    "g = 7\n",
    "h = 4\n",
    "i = g//h\n",
    "print(i)"
   ]
  },
  {
   "cell_type": "code",
   "execution_count": null,
   "id": "2327393c-6d7c-4839-8a65-13bd4d312b34",
   "metadata": {},
   "outputs": [
    {
     "name": "stdout",
     "output_type": "stream",
     "text": [
      "64\n"
     ]
    }
   ],
   "source": [
    "j = 4\n",
    "k = 3\n",
    "l = j**k\n",
    "print(l)"
   ]
  },
  {
   "cell_type": "markdown",
   "id": "3f1518c1-5cee-4677-ad58-b9217e9959e8",
   "metadata": {},
   "source": [
    "Q4. Create a list of length 10 of your choice containing multiple types of data. Using for loop print the\n",
    "element and its data type."
   ]
  },
  {
   "cell_type": "code",
   "execution_count": 36,
   "id": "82cb820e-efc6-4d98-9591-5f44e5e516c7",
   "metadata": {},
   "outputs": [
    {
     "name": "stdout",
     "output_type": "stream",
     "text": [
      "1\n",
      "<class 'int'>\n",
      "23\n",
      "<class 'int'>\n",
      "34\n",
      "<class 'int'>\n",
      "4.345\n",
      "<class 'float'>\n",
      "True\n",
      "<class 'bool'>\n",
      "(3+4j)\n",
      "<class 'complex'>\n",
      "0\n",
      "<class 'int'>\n",
      "vsmalik\n",
      "<class 'str'>\n",
      "-2\n",
      "<class 'int'>\n",
      "-24\n",
      "<class 'int'>\n"
     ]
    }
   ],
   "source": [
    "l = [1, 23, 34, 4.345, True, 3+4j, 0, \"vsmalik\", -2, -24]                #answer4\n",
    "for i in l:\n",
    "    print(i)\n",
    "    print(type(i))"
   ]
  },
  {
   "cell_type": "markdown",
   "id": "8ff9199b-ea0b-4af8-9a33-79c557afaa46",
   "metadata": {},
   "source": [
    "Q5. Using a while loop, verify if the number A is purely divisible by number B and if so then how many\n",
    "times it can be divisible."
   ]
  },
  {
   "cell_type": "code",
   "execution_count": 10,
   "id": "248f0322-68b0-4734-ae16-79c4e2da8c78",
   "metadata": {},
   "outputs": [
    {
     "name": "stdin",
     "output_type": "stream",
     "text": [
      " 8\n",
      " 2\n"
     ]
    },
    {
     "name": "stdout",
     "output_type": "stream",
     "text": [
      "Purely Divisible\n"
     ]
    }
   ],
   "source": [
    "A = int(input())           #answer5\n",
    "B = int(input())\n",
    "if A%B == 0:\n",
    "    print('Purely Divisible')\n",
    "else:\n",
    "    print('Not Divisible')\n",
    "    \n",
    "    "
   ]
  },
  {
   "cell_type": "markdown",
   "id": "a55b2a92-d5fe-4608-8917-494f6b16d154",
   "metadata": {},
   "source": [
    "Q6. Create a list containing 25 int type data. Using for loop and if-else condition print if the element is\n",
    "divisible by 3 or not."
   ]
  },
  {
   "cell_type": "code",
   "execution_count": 9,
   "id": "7606915d-64e6-4f6b-87b4-13d6964f7b1d",
   "metadata": {},
   "outputs": [
    {
     "name": "stdout",
     "output_type": "stream",
     "text": [
      "1\n",
      "Not divisible\n",
      "2\n",
      "Not divisible\n",
      "3\n",
      "The number is divisible by 3\n",
      "4\n",
      "Not divisible\n",
      "5\n",
      "Not divisible\n",
      "6\n",
      "The number is divisible by 3\n",
      "7\n",
      "Not divisible\n",
      "8\n",
      "Not divisible\n",
      "9\n",
      "The number is divisible by 3\n",
      "10\n",
      "Not divisible\n",
      "11\n",
      "Not divisible\n",
      "12\n",
      "The number is divisible by 3\n",
      "13\n",
      "Not divisible\n",
      "14\n",
      "Not divisible\n",
      "15\n",
      "The number is divisible by 3\n",
      "16\n",
      "Not divisible\n",
      "17\n",
      "Not divisible\n",
      "18\n",
      "The number is divisible by 3\n",
      "19\n",
      "Not divisible\n",
      "20\n",
      "Not divisible\n",
      "21\n",
      "The number is divisible by 3\n",
      "22\n",
      "Not divisible\n",
      "23\n",
      "Not divisible\n",
      "24\n",
      "The number is divisible by 3\n",
      "25\n",
      "Not divisible\n"
     ]
    }
   ],
   "source": [
    "l = [ 0,1,2,3,4,5,6,7,8,9,10,11,12,13,14,15,16,17,18,19,20,21,22,23,24]           # answer6\n",
    "for i in l:\n",
    "    \n",
    "    i += 1\n",
    "    if i%3 == 0:\n",
    "        print(i)\n",
    "        print(\"The number is divisible by 3\")\n",
    "    else:\n",
    "        print(i)\n",
    "        print(\"Not divisible\")\n",
    "        "
   ]
  },
  {
   "cell_type": "markdown",
   "id": "09fb3fd3-07b4-4e1c-8e9a-d685b1d77a6b",
   "metadata": {},
   "source": [
    "Q7. What do you understand about mutable and immutable data types? Give examples for both showing\n",
    "this property."
   ]
  },
  {
   "cell_type": "code",
   "execution_count": 8,
   "id": "141e5ef0-837c-49ef-9fcd-ba6ed29575b2",
   "metadata": {},
   "outputs": [
    {
     "data": {
      "text/plain": [
       "[1, 2, 3, 4, 5]"
      ]
     },
     "execution_count": 8,
     "metadata": {},
     "output_type": "execute_result"
    }
   ],
   "source": [
    "l = [1,2,3,4]          #answer7\n",
    "l.append(5)\n",
    "l"
   ]
  },
  {
   "cell_type": "code",
   "execution_count": 6,
   "id": "57135e61-aef3-4908-b3d3-5a031f947d61",
   "metadata": {},
   "outputs": [],
   "source": [
    "j = 'vsmalik'"
   ]
  },
  {
   "cell_type": "code",
   "execution_count": 7,
   "id": "aaf7c33f-55ef-443f-a5cd-c70bfc3fe56d",
   "metadata": {},
   "outputs": [
    {
     "ename": "AttributeError",
     "evalue": "'str' object has no attribute 'append'",
     "output_type": "error",
     "traceback": [
      "\u001b[0;31m---------------------------------------------------------------------------\u001b[0m",
      "\u001b[0;31mAttributeError\u001b[0m                            Traceback (most recent call last)",
      "Cell \u001b[0;32mIn[7], line 1\u001b[0m\n\u001b[0;32m----> 1\u001b[0m \u001b[43mj\u001b[49m\u001b[38;5;241;43m.\u001b[39;49m\u001b[43mappend\u001b[49m(\u001b[38;5;241m1\u001b[39m)\n",
      "\u001b[0;31mAttributeError\u001b[0m: 'str' object has no attribute 'append'"
     ]
    }
   ],
   "source": [
    "j.append(1)"
   ]
  },
  {
   "cell_type": "code",
   "execution_count": null,
   "id": "a09df467-ee5c-48fa-ab3f-e02c7875aca1",
   "metadata": {},
   "outputs": [],
   "source": []
  }
 ],
 "metadata": {
  "kernelspec": {
   "display_name": "Python 3 (ipykernel)",
   "language": "python",
   "name": "python3"
  },
  "language_info": {
   "codemirror_mode": {
    "name": "ipython",
    "version": 3
   },
   "file_extension": ".py",
   "mimetype": "text/x-python",
   "name": "python",
   "nbconvert_exporter": "python",
   "pygments_lexer": "ipython3",
   "version": "3.10.8"
  }
 },
 "nbformat": 4,
 "nbformat_minor": 5
}
